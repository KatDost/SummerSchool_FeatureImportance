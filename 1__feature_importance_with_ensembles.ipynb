{
 "cells": [
  {
   "cell_type": "markdown",
   "metadata": {},
   "source": [
    "# Feature Importance with Ensembles"
   ]
  },
  {
   "cell_type": "code",
   "execution_count": 6,
   "metadata": {},
   "outputs": [],
   "source": [
    "# Imports\n",
    "from sklearn.datasets import load_digits, fetch_openml\n",
    "from sklearn.preprocessing import OrdinalEncoder\n",
    "from sklearn.ensemble import RandomForestClassifier, RandomForestRegressor\n",
    "from sklearn.multiclass import OneVsRestClassifier\n",
    "from sklearn.model_selection import train_test_split\n",
    "from sklearn.dummy import DummyClassifier, DummyRegressor\n",
    "from sklearn.metrics import accuracy_score, mean_squared_error\n",
    "from sklearn.inspection import permutation_importance\n",
    "from ucimlrepo import fetch_ucirepo \n",
    "import pandas as pd\n",
    "import seaborn as sns\n",
    "import matplotlib.pyplot as plt\n",
    "import numpy as np\n",
    "\n",
    "import warnings\n",
    "warnings.simplefilter(action='ignore', category=FutureWarning)"
   ]
  },
  {
   "cell_type": "markdown",
   "metadata": {},
   "source": [
    "## Step 0 -- Data Exploration & Preprocessing (copy)"
   ]
  },
  {
   "cell_type": "code",
   "execution_count": 21,
   "metadata": {},
   "outputs": [],
   "source": [
    "# Adult dataset\n",
    "data_adult = fetch_openml(\"adult\", version=2, as_frame=True)\n",
    "X_adult = data_adult.data\n",
    "y_adult = data_adult.target\n",
    "feature_subset = ['age', 'education-num', 'race', 'sex', 'hours-per-week']\n",
    "X_adult = X_adult[feature_subset]\n",
    "categorical_cols = X_adult.select_dtypes(include=\"category\").columns\n",
    "encoder = OrdinalEncoder()\n",
    "X_adult = X_adult.copy()\n",
    "X_adult.loc[:, categorical_cols] = encoder.fit_transform(X_adult[categorical_cols])\n",
    "\n",
    "# Student performance dataset\n",
    "data_students = fetch_ucirepo(id=320) \n",
    "X_students = data_students.data.features \n",
    "Y_students = data_students.data.targets \n",
    "X_students = pd.get_dummies(X_students) # one-hot encode categorical features\n",
    "\n",
    "# Digits dataset\n",
    "data_digits = load_digits()\n",
    "X_digits = data_digits.data\n",
    "y_digits = data_digits.target"
   ]
  },
  {
   "cell_type": "markdown",
   "metadata": {},
   "source": [
    "# Step 1 -- Feature Importance with Ensembles\n",
    "\n",
    "We'll estimate feature importance using Random Forests.  \n",
    "These models provide built-in **impurity-based feature importances**, and we can also estimate **permutation importances** afterward."
   ]
  },
  {
   "cell_type": "markdown",
   "metadata": {},
   "source": [
    "## Step 1.1 -- Impurity-based feature importance"
   ]
  },
  {
   "cell_type": "markdown",
   "metadata": {},
   "source": [
    "#### Adult"
   ]
  },
  {
   "cell_type": "code",
   "execution_count": 22,
   "metadata": {},
   "outputs": [],
   "source": [
    "# Split into training and test data\n",
    "X_train, X_test, y_train, y_test = train_test_split(X_adult, y_adult, random_state=42)"
   ]
  },
  {
   "cell_type": "code",
   "execution_count": null,
   "metadata": {},
   "outputs": [],
   "source": [
    "# Train a random forest classifier\n",
    "clf = RandomForestClassifier(random_state=42, max_depth=10, min_samples_split=2)\n",
    "clf.fit(X_train, y_train)"
   ]
  },
  {
   "cell_type": "code",
   "execution_count": null,
   "metadata": {},
   "outputs": [],
   "source": [
    "# Verify that the model works\n",
    "\n",
    "# Stupid baseline: always predicts the most frequent class\n",
    "dummy_clf = DummyClassifier(strategy=\"most_frequent\")\n",
    "dummy_clf.fit(X_train, y_train)\n",
    "baseline_acc = accuracy_score(y_test, dummy_clf.predict(X_test))\n",
    "\n",
    "# Model\n",
    "model_acc = accuracy_score(y_test, clf.predict(X_test))\n",
    "\n",
    "print(f\"Baseline accuracy: {baseline_acc:.3f}\")\n",
    "print(f\"Random Forest accuracy: {model_acc:.3f}\")"
   ]
  },
  {
   "cell_type": "markdown",
   "metadata": {},
   "source": [
    "<div style=\"border: 1px solid rgb(0, 0, 0); background-color:rgb(224, 179, 83); padding: 10px; border-radius: 5px; color: white;\">\n",
    "<b>❓ Question:</b> Why do we need to verify that the model works before looking at the feature importances?\n",
    "</div>"
   ]
  },
  {
   "cell_type": "code",
   "execution_count": 31,
   "metadata": {},
   "outputs": [],
   "source": [
    "# Extract feature importances\n",
    "adult_impurity_importances = clf.feature_importances_\n",
    "feature_names = X_adult.columns\n",
    "indices = np.argsort(adult_impurity_importances)[::-1]"
   ]
  },
  {
   "cell_type": "code",
   "execution_count": null,
   "metadata": {},
   "outputs": [],
   "source": [
    "# Plot impurity-based feature importances\n",
    "plt.figure(figsize=(8, 5))\n",
    "plt.bar(range(len(adult_impurity_importances)), adult_impurity_importances[indices])\n",
    "plt.xticks(range(len(adult_impurity_importances)), feature_names[indices], rotation=90)\n",
    "plt.title(\"Adult – Impurity-based Feature Importances\")\n",
    "plt.tight_layout()\n",
    "plt.show()"
   ]
  },
  {
   "cell_type": "code",
   "execution_count": null,
   "metadata": {},
   "outputs": [],
   "source": [
    "# Sanity check: Do the most important features separate the classes well?\n",
    "sns.scatterplot(\n",
    "    data=X_adult,\n",
    "    x=\"age\",\n",
    "    y=\"education-num\",\n",
    "    hue=y_adult,\n",
    ")\n",
    "plt.tight_layout()\n",
    "plt.show()"
   ]
  },
  {
   "cell_type": "markdown",
   "metadata": {},
   "source": [
    "#### Student Performance"
   ]
  },
  {
   "cell_type": "code",
   "execution_count": null,
   "metadata": {},
   "outputs": [],
   "source": [
    "# Train/test split\n",
    "X_train, X_test, y_train, y_test = train_test_split(X_students, Y_students, random_state=42)\n",
    "\n",
    "# Train multi-target regressor\n",
    "reg = RandomForestRegressor(random_state=42, n_estimators=500)\n",
    "reg.fit(X_train, y_train)\n",
    "\n",
    "# Baseline: Always predicts the average grade\n",
    "dummy_reg = DummyRegressor(strategy=\"mean\")\n",
    "dummy_reg.fit(X_train, y_train)\n",
    "\n",
    "# Evaluate\n",
    "baseline_mse = mean_squared_error(y_test, dummy_reg.predict(X_test))\n",
    "model_mse = mean_squared_error(y_test, reg.predict(X_test))\n",
    "\n",
    "print(f\"Baseline Mean-Squared-Error: {baseline_mse:.3f}\")\n",
    "print(f\"Random Forest Mean-Squared-Error: {model_mse:.3f}\")"
   ]
  },
  {
   "cell_type": "code",
   "execution_count": null,
   "metadata": {},
   "outputs": [],
   "source": [
    "# Mean importances across targets\n",
    "students_impurity_importances = reg.feature_importances_\n",
    "feature_names = X_students.columns\n",
    "indices = np.argsort(students_impurity_importances)[::-1]\n",
    "\n",
    "# Plot\n",
    "plt.figure(figsize=(8, 5))\n",
    "plt.bar(range(len(students_impurity_importances)), students_impurity_importances[indices])\n",
    "plt.xticks(range(len(students_impurity_importances)), feature_names[indices], rotation=90)\n",
    "plt.title(\"Students – Impurity-based Feature Importances\")\n",
    "plt.tight_layout()\n",
    "plt.show()"
   ]
  },
  {
   "cell_type": "markdown",
   "metadata": {},
   "source": [
    "#### Digits"
   ]
  },
  {
   "cell_type": "code",
   "execution_count": null,
   "metadata": {},
   "outputs": [],
   "source": [
    "# Training/test split\n",
    "X_train, X_test, y_train, y_test = train_test_split(X_digits, y_digits, random_state=42)\n",
    "\n",
    "# Model\n",
    "clf_digits = RandomForestClassifier(random_state=42)\n",
    "clf_digits.fit(X_train, y_train)\n",
    "\n",
    "# Baseline\n",
    "dummy_digits = DummyClassifier(strategy=\"most_frequent\")\n",
    "dummy_digits.fit(X_train, y_train)\n",
    "\n",
    "# Evaluate\n",
    "baseline_acc = accuracy_score(y_test, dummy_digits.predict(X_test))\n",
    "model_acc = accuracy_score(y_test, clf_digits.predict(X_test))\n",
    "\n",
    "print(f\"Baseline accuracy: {baseline_acc:.3f}\")\n",
    "print(f\"Random Forest accuracy: {model_acc:.3f}\")"
   ]
  },
  {
   "cell_type": "code",
   "execution_count": null,
   "metadata": {},
   "outputs": [],
   "source": [
    "# Get importances (pixels)\n",
    "digits_impurity_importances = clf_digits.feature_importances_\n",
    "\n",
    "# Plot importances\n",
    "plt.figure(figsize=(6, 6))\n",
    "plt.imshow(digits_impurity_importances.reshape(8, 8), cmap=\"viridis\")\n",
    "plt.title(\"Digits – Pixel Importance (Impurity-based)\")\n",
    "plt.colorbar()\n",
    "plt.axis(\"off\")\n",
    "plt.show()"
   ]
  },
  {
   "cell_type": "markdown",
   "metadata": {},
   "source": [
    "<div style=\"border: 1px solid rgb(0, 0, 0); background-color:rgb(224, 179, 83); padding: 10px; border-radius: 5px; color: white;\">\n",
    "<b>❓ Question:</b> What about class-wise importances?\n",
    "</div>"
   ]
  },
  {
   "cell_type": "markdown",
   "metadata": {},
   "source": [
    "#### SPOILER: Class-wise importances"
   ]
  },
  {
   "cell_type": "markdown",
   "metadata": {},
   "source": [
    "RandomForest natively does not support this, so we need a work-around...\n",
    "\n",
    "OneVsRestClassifier turns a multiclass classification problem into multiple binary classification problems.\n",
    "For a problem with K classes, it trains K separate classifiers (and each of them has feature importance).\n",
    "Each classifier learns to distinguish one class vs. all other classes (\"one-vs-rest\").\n",
    "During prediction, all K classifiers produce scores, and the class with the highest score is selected."
   ]
  },
  {
   "cell_type": "code",
   "execution_count": null,
   "metadata": {},
   "outputs": [],
   "source": [
    "# Split data\n",
    "X_train, X_test, y_train, y_test = train_test_split(X_digits, y_digits, random_state=42)\n",
    "\n",
    "# One-vs-Rest Random Forest\n",
    "clf_ovr = OneVsRestClassifier(RandomForestClassifier(random_state=42))\n",
    "clf_ovr.fit(X_train, y_train)\n",
    "\n",
    "# Evaluate\n",
    "y_pred = clf_ovr.predict(X_test)\n",
    "accuracy = accuracy_score(y_test, y_pred)\n",
    "print(f\"One-vs-Rest Random Forest accuracy: {accuracy:.3f}\")"
   ]
  },
  {
   "cell_type": "code",
   "execution_count": null,
   "metadata": {},
   "outputs": [],
   "source": [
    "# Plot class-wise feature importance\n",
    "n_classes = len(clf_ovr.classes_)\n",
    "n_cols = 5\n",
    "n_rows = int(np.ceil(n_classes / n_cols))\n",
    "\n",
    "fig, axes = plt.subplots(n_rows, n_cols, figsize=(1.5 * n_cols, 1.5 * n_rows))\n",
    "\n",
    "for i, est in enumerate(clf_ovr.estimators_):\n",
    "    ax = axes[i // n_cols, i % n_cols]\n",
    "    importances = est.feature_importances_.reshape(8, 8)\n",
    "    im = ax.imshow(importances, cmap=\"viridis\")\n",
    "    ax.set_title(f\"Class {clf_ovr.classes_[i]}\")\n",
    "    ax.axis(\"off\")\n",
    "\n",
    "# Hide any unused subplots\n",
    "for j in range(i + 1, n_rows * n_cols):\n",
    "    axes[j // n_cols, j % n_cols].axis(\"off\")\n",
    "\n",
    "fig.suptitle(\"Per-Class Pixel Importances\", fontsize=16)\n",
    "plt.tight_layout()\n",
    "plt.show()"
   ]
  },
  {
   "cell_type": "markdown",
   "metadata": {},
   "source": [
    "## Step 1.2 -- Permutation importances\n",
    "\n",
    "While impurity-based feature importances come from how much a feature reduces node impurity during training, **permutation importance** measures how much a feature matters to model performance after training.\n",
    "\n",
    "**Idea**: If a feature is important, shuffling its values should make predictions worse.\n",
    "\n",
    "Advantages:\n",
    "- Model-agnostic\n",
    "- Evaluated on test data → reflects generalization\n",
    "- Can be used for individual classes (with care)\n",
    "\n",
    "Limitations:\n",
    "- More computationally expensive\n",
    "- Sensitive to correlated features\n"
   ]
  },
  {
   "cell_type": "markdown",
   "metadata": {},
   "source": [
    "#### Adult"
   ]
  },
  {
   "cell_type": "code",
   "execution_count": null,
   "metadata": {},
   "outputs": [],
   "source": [
    "# Split & fit\n",
    "X_train, X_test, y_train, y_test = train_test_split(X_adult, y_adult, random_state=42)\n",
    "clf = RandomForestClassifier(random_state=42, max_depth=10, min_samples_split=2)\n",
    "clf.fit(X_train, y_train)"
   ]
  },
  {
   "cell_type": "code",
   "execution_count": null,
   "metadata": {},
   "outputs": [],
   "source": [
    "# Permutation importance on test set\n",
    "adult_permutation_importances = permutation_importance(clf, X_test, y_test, n_repeats=100, random_state=42)"
   ]
  },
  {
   "cell_type": "code",
   "execution_count": null,
   "metadata": {},
   "outputs": [],
   "source": [
    "# Both importance sources, aligned by feature name\n",
    "feature_names = X_train.columns\n",
    "perm = adult_permutation_importances.importances_mean\n",
    "impurity = adult_impurity_importances  # precomputed\n",
    "sorted_idx = np.argsort(perm)\n",
    "\n",
    "# Bar positions\n",
    "y_pos = np.arange(len(feature_names))\n",
    "bar_width = 0.4\n",
    "\n",
    "plt.figure(figsize=(9, 6))\n",
    "plt.barh(y_pos - bar_width/2, perm[sorted_idx], height=bar_width, label=\"Permutation Importance\", color=\"steelblue\")\n",
    "plt.barh(y_pos + bar_width/2, impurity[sorted_idx], height=bar_width, label=\"Impurity Importance\", color=\"orange\")\n",
    "\n",
    "plt.yticks(y_pos, feature_names[sorted_idx])\n",
    "plt.xlabel(\"Importance\")\n",
    "plt.title(\"Adult – Feature Importances (Permutation vs. Impurity)\")\n",
    "plt.legend(loc=\"lower right\")\n",
    "plt.tight_layout()\n",
    "plt.show()"
   ]
  },
  {
   "cell_type": "markdown",
   "metadata": {},
   "source": [
    "<div style=\"border: 1px solid rgb(0, 0, 0); background-color:rgb(224, 179, 83); padding: 10px; border-radius: 5px; color: white;\">\n",
    "<b>🔧 Task:</b> Calculate permutation feature importance for the other datasets.\n",
    "</div>"
   ]
  },
  {
   "cell_type": "code",
   "execution_count": 53,
   "metadata": {},
   "outputs": [],
   "source": [
    "# your code\n",
    "..."
   ]
  }
 ],
 "metadata": {
  "kernelspec": {
   "display_name": ".venv",
   "language": "python",
   "name": "python3"
  },
  "language_info": {
   "codemirror_mode": {
    "name": "ipython",
    "version": 3
   },
   "file_extension": ".py",
   "mimetype": "text/x-python",
   "name": "python",
   "nbconvert_exporter": "python",
   "pygments_lexer": "ipython3",
   "version": "3.13.0"
  }
 },
 "nbformat": 4,
 "nbformat_minor": 2
}
